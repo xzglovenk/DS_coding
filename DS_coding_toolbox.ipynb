{
 "cells": [
  {
   "cell_type": "code",
   "execution_count": 12,
   "metadata": {},
   "outputs": [],
   "source": [
    "import pandas as pd\n",
    "import numpy as np\n",
    "from matplotlib import pyplot as plt\n",
    "import seaborn as sns\n",
    "import statsmodels.api as sm\n",
    "from statsmodels.formula.api import ols\n",
    "import scipy.stats as st\n",
    "\n",
    "from sklearn.preprocessing import StandardScaler, MinMaxScaler, OneHotEncoder\n",
    "from sklearn.impute import SimpleImputer\n",
    "from sklearn.pipeline import Pipeline\n",
    "from sklearn.compose import ColumnTransformer \n",
    "\n",
    "from sklearn.model_selection import RandomizedSearchCV, train_test_split\n",
    "\n",
    "from sklearn.linear_model import LinearRegression, LogisticRegression\n",
    "from sklearn.ensemble import RandomForestClassifier\n",
    "from sklearn.svm import SVC\n",
    "import xgboost as xgb\n",
    "\n",
    "from sklearn.metrics import accuracy_score, mean_squared_error, confusion_matrix, roc_auc_score, roc_curve\n",
    "\n",
    "from sklearn.manifold import TSNE\n",
    "from sklearn.cluster import KMeans\n",
    "from sklearn.decomposition import PCA"
   ]
  },
  {
   "cell_type": "code",
   "execution_count": 6,
   "metadata": {},
   "outputs": [],
   "source": [
    "train = pd.read_csv('./train.csv')"
   ]
  },
  {
   "cell_type": "markdown",
   "metadata": {},
   "source": [
    "# preprocessing"
   ]
  },
  {
   "cell_type": "code",
   "execution_count": 8,
   "metadata": {},
   "outputs": [],
   "source": [
    "num_col = [f for f in train.columns if train.dtypes[f] != 'object']\n",
    "cat_col = [f for f in train.columns if train.dtypes[f] == 'object']\n",
    "\n",
    "def impute(df, num_col, cat_col):\n",
    "    df_out = df.copy()\n",
    "    for c in num_col:\n",
    "        if df_out[c].isna().any():\n",
    "            m = df_out[c].dropna().median()\n",
    "            df_out[c] = df_out[c].fillna(m)\n",
    "\n",
    "    for c in cat_col:\n",
    "        if df_out[c].isna().any():\n",
    "            df_out[c] = df_out[c].fillna('MISSING')\n",
    "            \n",
    "    return df_out\n",
    "\n",
    "cat_trans = Pipeline(\n",
    "    steps=[\n",
    "        ('imput', SimpleImputer(strategy='constant', missing_values='Missing')),\n",
    "        ('onehot', OneHotEncoder())\n",
    "    ]\n",
    ")\n",
    "num_trans = Pipeline(\n",
    "    steps=[\n",
    "        ('imput', SimpleImputer(strategy='median')),\n",
    "        ('scale', StandardScaler())\n",
    "    ]\n",
    ")\n",
    "coltrans = ColumnTransformer(\n",
    "    transformers=[\n",
    "        ('cat', cat_trans, cat_col),\n",
    "        ('num', num_trans, num_col)\n",
    "    ],\n",
    "    remainder='passthrough',\n",
    "    sparse_threshold=0\n",
    ")\n"
   ]
  },
  {
   "cell_type": "code",
   "execution_count": 10,
   "metadata": {},
   "outputs": [],
   "source": [
    "def get_column_names_from_ColumnTransformer(column_transformer):    \n",
    "    col_name = []\n",
    "    for transformer_in_columns in column_transformer.transformers_[:-1]:#the last transformer is ColumnTransformer's 'remainder'\n",
    "        raw_col_name = transformer_in_columns[2]\n",
    "        if isinstance(transformer_in_columns[1],Pipeline): \n",
    "            transformer = transformer_in_columns[1].steps[-1][1]\n",
    "        else:\n",
    "            transformer = transformer_in_columns[1]\n",
    "        try:\n",
    "            names = transformer.get_feature_names()\n",
    "        except AttributeError: # if no 'get_feature_names' function, use raw column name\n",
    "            names = raw_col_name\n",
    "        if isinstance(names,np.ndarray): # eg.\n",
    "            col_name += names.tolist()\n",
    "        elif isinstance(names,list):\n",
    "            col_name += names    \n",
    "        elif isinstance(names,str):\n",
    "            col_name.append(names)\n",
    "    return col_name"
   ]
  },
  {
   "cell_type": "code",
   "execution_count": null,
   "metadata": {},
   "outputs": [],
   "source": [
    "# A good way to encode categorical features into ordinal numerical feature based on group mean\n",
    "def encode(frame, feature):\n",
    "    ordering = pd.DataFrame()\n",
    "    ordering['val'] = frame[feature].unique()\n",
    "    ordering.index = ordering.val\n",
    "    ordering['spmean'] = frame[[feature, 'SalePrice']].groupby(feature).mean()['SalePrice']\n",
    "    ordering = ordering.sort_values('spmean')\n",
    "    ordering['ordering'] = range(1, ordering.shape[0]+1)\n",
    "    ordering = ordering['ordering'].to_dict()\n",
    "    \n",
    "    for cat, o in ordering.items():\n",
    "        frame.loc[frame[feature] == cat, feature+'_E'] = o\n",
    "    \n",
    "qual_encoded = []\n",
    "for q in qualitative:  \n",
    "    encode(train, q)\n",
    "    qual_encoded.append(q+'_E')\n",
    "print(qual_encoded)"
   ]
  },
  {
   "cell_type": "code",
   "execution_count": null,
   "metadata": {},
   "outputs": [],
   "source": [
    "# Visualize the spearman correlation\n",
    "def spearman(frame, features):\n",
    "    spr = pd.DataFrame()\n",
    "    spr['feature'] = features\n",
    "    spr['spearman'] = [frame[f].corr(frame['SalePrice'], 'spearman') for f in features]\n",
    "    spr = spr.sort_values('spearman')\n",
    "    plt.figure(figsize=(6, 0.25*len(features)))\n",
    "    sns.barplot(data=spr, y='feature', x='spearman', orient='h')\n",
    "    \n",
    "features = quantitative + qual_encoded\n",
    "spearman(train, features)"
   ]
  },
  {
   "cell_type": "markdown",
   "metadata": {},
   "source": [
    "Spearman correlation is better to work with in this case because it picks up relationships between variables even when they are nonlinear. OverallQual is main criterion in establishing house price. Neighborhood has big influence, partially it has some intrisinc value in itself, but also houses in certain regions tend to share same characteristics (confunding) what causes similar valuations."
   ]
  },
  {
   "cell_type": "code",
   "execution_count": null,
   "metadata": {},
   "outputs": [],
   "source": [
    "X_train, X_test, y_train, y_test = train_test_split(X, y, test_size = 0.2)"
   ]
  },
  {
   "cell_type": "markdown",
   "metadata": {},
   "source": [
    "# Visualization"
   ]
  },
  {
   "cell_type": "code",
   "execution_count": null,
   "metadata": {},
   "outputs": [],
   "source": [
    "fig = plt.figure(figsize=(12, 8))\n",
    "sns.distplot() # Distribution, hist\n",
    "plt.plot() # Line graph\n",
    "sns.boxplot() # Boxplot\n",
    "sns.scatterplot() # Scatter plot"
   ]
  },
  {
   "cell_type": "code",
   "execution_count": null,
   "metadata": {},
   "outputs": [],
   "source": [
    "for c in num_col:\n",
    "    sns.distplot(df_train[c].dropna())\n",
    "    plt.title(c)\n",
    "    plt.show()\n",
    "    sns.scatterplot(df_train[c], df_train['SalePrice'])\n",
    "    plt.title(c)\n",
    "    plt.show()"
   ]
  },
  {
   "cell_type": "code",
   "execution_count": null,
   "metadata": {},
   "outputs": [],
   "source": [
    "# Heatmap for correlation\n",
    "corr = df_train[num_col + y_col].corr()\n",
    "sns.heatmap(corr, annot=True)"
   ]
  },
  {
   "cell_type": "markdown",
   "metadata": {},
   "source": [
    "# Some statistical functions for EDA"
   ]
  },
  {
   "cell_type": "code",
   "execution_count": null,
   "metadata": {},
   "outputs": [],
   "source": [
    "def anova(df):\n",
    "    anv = pd.DataFrame()\n",
    "    anv['feature'] = qualitative\n",
    "    pval = []\n",
    "    for feat in qualitative:\n",
    "        sample = []\n",
    "        for cls in df[feat].unique():\n",
    "            s = df[df[feat] == cls]['SalePrice'].values\n",
    "            sample.append(s)\n",
    "            \n",
    "        pval.append(np.log(1 / st.f_oneway(*sample)[1]))\n",
    "    \n",
    "    anv['pval'] = pval\n",
    "    return anv.sort_values(by = 'pval', ascending = False)"
   ]
  },
  {
   "cell_type": "code",
   "execution_count": null,
   "metadata": {},
   "outputs": [],
   "source": [
    "# Chi-squre (categorical vs. categorical)\n",
    "from scipy.stats import chi2_contingency\n",
    "res = pd.crosstab(df_temp['occu'], df_temp['approve'])\n",
    "chi2_contingency(res)"
   ]
  },
  {
   "cell_type": "code",
   "execution_count": null,
   "metadata": {},
   "outputs": [],
   "source": [
    "# categorical/num vs. num\n",
    "lm = ols('SalePrice ~ Neighborhood', data = df_train).fit()\n",
    "lm.summary()\n",
    "table = sm.stats.anova_lm(lm)"
   ]
  },
  {
   "cell_type": "code",
   "execution_count": null,
   "metadata": {},
   "outputs": [],
   "source": []
  },
  {
   "cell_type": "markdown",
   "metadata": {},
   "source": [
    "# Machine learning"
   ]
  },
  {
   "cell_type": "code",
   "execution_count": 14,
   "metadata": {},
   "outputs": [],
   "source": [
    "### ROC AUC curve"
   ]
  },
  {
   "cell_type": "code",
   "execution_count": null,
   "metadata": {},
   "outputs": [],
   "source": [
    "# Need to use model.pred_prob() or model.decision_function\n",
    "y_test_score_svc = svc.decision_function(X_test2)\n",
    "y_test_score_rf = rfc.predict_proba(X_test1)[:, 1]\n",
    "\n",
    "# ROC score\n",
    "roc_auc_score(y_test, y_test_score_svc)\n",
    "\n",
    "# Drawing ROC curve\n",
    "fpr, tpr, _ = roc_curve(y_test, y_test_score)\n",
    "\n",
    "## Draw the figure and the diagonal line\n",
    "plt.figure(figsize = (8, 6))\n",
    "plt.plot([0, 1], [0, 1], 'k--')\n",
    "\n",
    "## Draw the ROC curve. You can draw multiple ones together\n",
    "plt.plot(fpr_lgr, tpr_lgr, label='LR')\n",
    "plt.plot(fpr_xgb, tpr_xgb, label='XGB')\n",
    "plt.plot(fpr, tpr, label='SVC')\n",
    "plt.xlabel('False positive rate')\n",
    "plt.ylabel('True positive rate')\n",
    "plt.title('ROC curve')\n",
    "plt.legend(loc='best')\n",
    "plt.show()"
   ]
  },
  {
   "cell_type": "code",
   "execution_count": null,
   "metadata": {},
   "outputs": [],
   "source": [
    "### TSNE, PCA, Cluster and visulization"
   ]
  },
  {
   "cell_type": "code",
   "execution_count": null,
   "metadata": {},
   "outputs": [],
   "source": [
    "tsne = TSNE(n_components=3)\n",
    "tsne_res = tsne.fit_transform(X)\n",
    "df_tsne = pd.DataFrame({'tsne1':tsne_res[:, 0], 'tsne2':tsne_res[:, 1], 'tsne3':tsne_res[:, 2], 'class':df['label']})\n",
    "\n",
    "pca = PCA(n_components=3)\n",
    "pca_out = pca.fit_transform(X)\n",
    "\n",
    "## Visualize in 2D\n",
    "sns.scatterplot(x = 'tsne1', y = 'tsne2', data = df_tsne, hue='class')\n",
    "plt.show()\n",
    "## Visualize in 3D\n",
    "from mpl_toolkits.mplot3d import Axes3D\n",
    "import matplotlib.pyplot as plt\n",
    "\n",
    "fig = plt.figure(figsize=(16, 12))\n",
    "ax = fig.add_subplot(111, projection='3d')\n",
    "\n",
    "ax.scatter(df_tsne['tsne1'], df_tsne['tsne2'], df_tsne['tsne3'],c=df_tsne['class'])\n",
    "#ax.scatter(*zip(*tsne))\n",
    "plt.show()"
   ]
  },
  {
   "cell_type": "code",
   "execution_count": null,
   "metadata": {},
   "outputs": [],
   "source": [
    "# Kmeans elbow graph\n",
    "\n",
    "sse = {}\n",
    "for k in range(1, 10):\n",
    "    cluster = KMeans(n_clusters=k)\n",
    "    cluster.fit(X)\n",
    "    sse[k] = cluster.inertia_\n",
    "\n",
    "plt.plot(sse.keys(), sse.values())\n",
    "plt.show()\n",
    "\n",
    "# Visulize the clusters by TSNE\n",
    "cluster = KMeans(n_clusters=k)\n",
    "cluster.fit(X)\n",
    "\n",
    "tsne = TSNE(n_components=2)\n",
    "tsne_res = tsne.fit_transform(X)\n",
    "df_tsne = pd.DataFrame({'tsne1':tsne_res[:, 0], 'tsne2':tsne_res[:, 1], 'class':cluster.labels_})\n"
   ]
  },
  {
   "cell_type": "code",
   "execution_count": null,
   "metadata": {},
   "outputs": [],
   "source": []
  },
  {
   "cell_type": "markdown",
   "metadata": {},
   "source": [
    "# miscellaneous"
   ]
  },
  {
   "cell_type": "markdown",
   "metadata": {},
   "source": [
    "### an example for refining the graph"
   ]
  },
  {
   "cell_type": "code",
   "execution_count": 17,
   "metadata": {},
   "outputs": [
    {
     "data": {
      "text/html": [
       "<div>\n",
       "<style scoped>\n",
       "    .dataframe tbody tr th:only-of-type {\n",
       "        vertical-align: middle;\n",
       "    }\n",
       "\n",
       "    .dataframe tbody tr th {\n",
       "        vertical-align: top;\n",
       "    }\n",
       "\n",
       "    .dataframe thead th {\n",
       "        text-align: right;\n",
       "    }\n",
       "</style>\n",
       "<table border=\"1\" class=\"dataframe\">\n",
       "  <thead>\n",
       "    <tr style=\"text-align: right;\">\n",
       "      <th></th>\n",
       "      <th>Fields</th>\n",
       "      <th>2017</th>\n",
       "      <th>2018</th>\n",
       "      <th>2019</th>\n",
       "    </tr>\n",
       "  </thead>\n",
       "  <tbody>\n",
       "    <tr>\n",
       "      <th>1</th>\n",
       "      <td>CS</td>\n",
       "      <td>500</td>\n",
       "      <td>600</td>\n",
       "      <td>800</td>\n",
       "    </tr>\n",
       "    <tr>\n",
       "      <th>0</th>\n",
       "      <td>Math</td>\n",
       "      <td>200</td>\n",
       "      <td>150</td>\n",
       "      <td>120</td>\n",
       "    </tr>\n",
       "    <tr>\n",
       "      <th>4</th>\n",
       "      <td>Physics</td>\n",
       "      <td>120</td>\n",
       "      <td>120</td>\n",
       "      <td>90</td>\n",
       "    </tr>\n",
       "    <tr>\n",
       "      <th>2</th>\n",
       "      <td>Chemistry</td>\n",
       "      <td>100</td>\n",
       "      <td>30</td>\n",
       "      <td>30</td>\n",
       "    </tr>\n",
       "    <tr>\n",
       "      <th>3</th>\n",
       "      <td>Bilogy</td>\n",
       "      <td>180</td>\n",
       "      <td>50</td>\n",
       "      <td>20</td>\n",
       "    </tr>\n",
       "  </tbody>\n",
       "</table>\n",
       "</div>"
      ],
      "text/plain": [
       "      Fields  2017  2018  2019\n",
       "1         CS   500   600   800\n",
       "0       Math   200   150   120\n",
       "4    Physics   120   120    90\n",
       "2  Chemistry   100    30    30\n",
       "3     Bilogy   180    50    20"
      ]
     },
     "execution_count": 17,
     "metadata": {},
     "output_type": "execute_result"
    }
   ],
   "source": [
    "students_year = pd.DataFrame([['Math', 200, 150, 120], ['CS', 500, 600, 800], ['Chemistry', 100, 30, 30], ['Bilogy', 180, 50, 20], ['Physics', 120, 120, 90]], columns = ['Fields', '2017', '2018', '2019'])\n",
    "students_year.sort_values('2019', inplace = True, ascending = False)\n",
    "students_year"
   ]
  },
  {
   "cell_type": "code",
   "execution_count": 18,
   "metadata": {},
   "outputs": [
    {
     "data": {
      "image/png": "[encoded data removed]",
      "text/plain": [
       "<Figure size 432x288 with 1 Axes>"
      ]
     },
     "metadata": {
      "needs_background": "light"
     },
     "output_type": "display_data"
    }
   ],
   "source": [
    "students_year.plot.bar(x = 'Fields', y = ['2017', '2018', '2019'])\n",
    "#plt.bar(students_year.Fields, students_year[['2018', '2019']])\n",
    "plt.title('Internationa Students by Fields and Years', fontsize = 16, fontweight = 'bold')\n",
    "plt.xlabel('Fields', fontsize = 14, fontweight = 'bold')\n",
    "plt.ylabel('Number', fontsize = 14, fontweight = 'bold')\n",
    "# All the plots incude two parts: Figure and Axis\n",
    "ax = plt.gca() # Get current axis, type: matplotlib.axes._subplots.AxesSubplot\n",
    "ax.set_xticklabels(students_year.Fields, rotation = '45', ha = 'right', fontsize = 10)\n",
    "f = plt.gcf() # Get current figure, type: matplotlib.figure.Figure\n",
    "f.subplots_adjust(left = 0.2, bottom = 0.42)\n",
    "plt.show()"
   ]
  },
  {
   "cell_type": "code",
   "execution_count": 22,
   "metadata": {},
   "outputs": [
    {
     "data": {
      "text/plain": [
       "<matplotlib.axes._subplots.AxesSubplot at 0x7fd789410710>"
      ]
     },
     "execution_count": 22,
     "metadata": {},
     "output_type": "execute_result"
    },
    {
     "data": {
      "image/png": "[encoded data removed]",
      "text/plain": [
       "<Figure size 432x288 with 1 Axes>"
      ]
     },
     "metadata": {
      "needs_background": "light"
     },
     "output_type": "display_data"
    }
   ],
   "source": [
    "# Make it horizontal and stacked\n",
    "students_year.plot.barh(x = 'Fields', y = ['2017', '2018', '2019'], stacked=True)"
   ]
  },
  {
   "cell_type": "code",
   "execution_count": null,
   "metadata": {},
   "outputs": [],
   "source": []
  }
 ],
 "metadata": {
  "kernelspec": {
   "display_name": "Python 3",
   "language": "python",
   "name": "python3"
  },
  "language_info": {
   "codemirror_mode": {
    "name": "ipython",
    "version": 3
   },
   "file_extension": ".py",
   "mimetype": "text/x-python",
   "name": "python",
   "nbconvert_exporter": "python",
   "pygments_lexer": "ipython3",
   "version": "3.6.8"
  }
 },
 "nbformat": 4,
 "nbformat_minor": 2
}
